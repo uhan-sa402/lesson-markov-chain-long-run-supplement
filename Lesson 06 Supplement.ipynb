{
 "cells": [
  {
   "cell_type": "markdown",
   "id": "3acef2c3-e73f-4adc-bab6-40cd09e07c3a",
   "metadata": {},
   "source": [
    "**SA402 &#x25aa; Dynamic and Stochastic Models &#x25aa; Fall 2023 &#x25aa; Uhan**"
   ]
  },
  {
   "cell_type": "markdown",
   "id": "e68a16a2-7143-43ed-b9e3-8f84d7d5e4c5",
   "metadata": {},
   "source": [
    "# Lesson 6 Supplement"
   ]
  },
  {
   "cell_type": "markdown",
   "id": "2bda8c63-16c0-46dc-a418-0552ea5bec8b",
   "metadata": {},
   "source": [
    "## Goal\n",
    "\n",
    "* Let's go through an example of using Python &ndash; in particular, [NumPy](https://numpy.org/doc/stable/) &ndash; to do some matrix computations for Markov chains\n",
    "\n",
    "* This example will also give us some insight into the behavior of the limiting probabilities for Markov chains"
   ]
  },
  {
   "cell_type": "markdown",
   "id": "e16d19b9-e39d-41da-ab24-3038675f3460",
   "metadata": {
    "tags": []
   },
   "source": [
    "## Example"
   ]
  },
  {
   "cell_type": "markdown",
   "id": "27b30f1a-bf7c-495d-85e6-e0f61d9bcaba",
   "metadata": {},
   "source": [
    "Recall the example from Lesson 6...\n",
    "\n",
    "An autonomous UAV has been programmed to move between five regions to perform surveillance, according to a Markov chain in which the states correspond to the regions, and transition probabilities are given below.\n",
    "\n",
    "\\begin{equation*}\n",
    "\\mathbf{P} =\n",
    "\\begin{bmatrix}\n",
    "  0.1 & 0.3 & 0.5 & 0   & 0.1 \\\\\n",
    "  0   & 1   & 0   & 0   & 0   \\\\\n",
    "  0   & 0   & 0.8 & 0.2 & 0   \\\\\n",
    "  0   & 0   & 0.7 & 0.3 & 0   \\\\\n",
    "  0.5 & 0   & 0   & 0.4 & 0.1\n",
    "\\end{bmatrix}\n",
    "\\end{equation*}\n",
    "\n",
    "Recall that we determined that the transient states are $\\mathcal{T} = \\{1, 5\\}$, and that there are two recurrent classes, $\\mathcal{R}_{1} = \\{3, 4\\}$ and $\\mathcal{R}_{2} = \\{2\\}$."
   ]
  },
  {
   "cell_type": "markdown",
   "id": "b9bfa573-cc01-4692-9179-568d50eac7f0",
   "metadata": {},
   "source": [
    "* Let's start by importing NumPy, and tweaking its settings so that the output is a little easier to read:"
   ]
  },
  {
   "cell_type": "code",
   "execution_count": null,
   "id": "6521f972-0c20-4982-8c6a-60ca5c7750d3",
   "metadata": {
    "tags": []
   },
   "outputs": [],
   "source": [
    "import numpy as np\n",
    "\n",
    "np.set_printoptions(suppress=True, precision=4)"
   ]
  },
  {
   "cell_type": "markdown",
   "id": "4fe75056-48b5-4ae5-9b54-c7cf7ac5428e",
   "metadata": {},
   "source": [
    "* We can input the transition probability matrix $\\mathbf{P}$ row-by-row using `np.matrix` [(documentation)](https://numpy.org/doc/stable/reference/generated/numpy.matrix.html), like this:"
   ]
  },
  {
   "cell_type": "code",
   "execution_count": null,
   "id": "c5ada3b5-2f53-49b2-ac2f-6111ba37675b",
   "metadata": {},
   "outputs": [],
   "source": []
  },
  {
   "cell_type": "markdown",
   "id": "d302e908-e63f-4bea-9a8f-c365dd6d1386",
   "metadata": {},
   "source": [
    "* Then, we can square $\\mathbf{P}$, like this:"
   ]
  },
  {
   "cell_type": "code",
   "execution_count": null,
   "id": "f21a84ad-44af-4446-805f-f85ba514b1a6",
   "metadata": {},
   "outputs": [],
   "source": []
  },
  {
   "cell_type": "markdown",
   "id": "5d874bba-d9c9-435c-ab3e-4d398c937473",
   "metadata": {},
   "source": [
    "* Similarly, we can compute $\\mathbf{P}^{5}$:"
   ]
  },
  {
   "cell_type": "code",
   "execution_count": null,
   "id": "650db97c-75a2-40f0-b16d-706216b50973",
   "metadata": {},
   "outputs": [],
   "source": []
  },
  {
   "cell_type": "markdown",
   "id": "0f60349f-656a-4b95-937e-969b1f447944",
   "metadata": {},
   "source": [
    "* Also, $\\mathbf{P}^{100}$:"
   ]
  },
  {
   "cell_type": "code",
   "execution_count": null,
   "id": "38412bc0-796a-400f-8410-803b4ba5efe4",
   "metadata": {},
   "outputs": [],
   "source": []
  },
  {
   "cell_type": "markdown",
   "id": "b2219071-e420-40bb-bd93-07e863b7ade8",
   "metadata": {},
   "source": [
    "* As as an approximation of long-run behavior we can compute $\\mathbf{P}^{1000}$ as well:"
   ]
  },
  {
   "cell_type": "code",
   "execution_count": null,
   "id": "cb7482c5-cf13-44ec-8730-717fecaf90b6",
   "metadata": {},
   "outputs": [],
   "source": []
  }
 ],
 "metadata": {
  "kernelspec": {
   "display_name": "Python 3 (ipykernel)",
   "language": "python",
   "name": "python3"
  },
  "language_info": {
   "codemirror_mode": {
    "name": "ipython",
    "version": 3
   },
   "file_extension": ".py",
   "mimetype": "text/x-python",
   "name": "python",
   "nbconvert_exporter": "python",
   "pygments_lexer": "ipython3",
   "version": "3.11.3"
  }
 },
 "nbformat": 4,
 "nbformat_minor": 5
}
